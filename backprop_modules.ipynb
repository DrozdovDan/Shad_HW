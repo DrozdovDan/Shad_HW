{
 "cells": [
  {
   "cell_type": "code",
   "execution_count": 1,
   "metadata": {
    "id": "UrkSsCyT5CoR"
   },
   "outputs": [],
   "source": [
    "import numpy as np"
   ]
  },
  {
   "cell_type": "markdown",
   "metadata": {
    "id": "ObuqtNmF5CoW"
   },
   "source": [
    "**Module** is an abstract class which defines fundamental methods necessary for a training a neural network. You do not need to change anything here, just read the comments."
   ]
  },
  {
   "cell_type": "code",
   "execution_count": 2,
   "metadata": {
    "id": "9-RImaVZ5CoW"
   },
   "outputs": [],
   "source": [
    "class Module(object):\n",
    "    \"\"\"\n",
    "    Basically, you can think of a module as of a something (black box)\n",
    "    which can process `input` data and produce `ouput` data.\n",
    "    This is like applying a function which is called `forward`:\n",
    "\n",
    "        output = module.forward(input)\n",
    "\n",
    "    The module should be able to perform a backward pass: to differentiate the `forward` function.\n",
    "    Moreover, it should be able to differentiate it if is a part of chain (chain rule).\n",
    "    The latter implies there is a gradient from previous step of a chain rule.\n",
    "\n",
    "        input_grad = module.backward(input, output_grad)\n",
    "    \"\"\"\n",
    "    def __init__ (self):\n",
    "        self._output = None\n",
    "        self._input_grad = None\n",
    "        self.training = True\n",
    "\n",
    "    def forward(self, input):\n",
    "        \"\"\"\n",
    "        Takes an input object, and computes the corresponding output of the module.\n",
    "        \"\"\"\n",
    "        self._output = self._compute_output(input)\n",
    "        return self._output\n",
    "\n",
    "    def backward(self, input, output_grad):\n",
    "        \"\"\"\n",
    "        Performs a backpropagation step through the module, with respect to the given input.\n",
    "\n",
    "        This includes\n",
    "         - computing a gradient w.r.t. `input` (is needed for further backprop),\n",
    "         - computing a gradient w.r.t. parameters (to update parameters while optimizing).\n",
    "        \"\"\"\n",
    "        self._input_grad = self._compute_input_grad(input, output_grad)\n",
    "        self._update_parameters_grad(input, output_grad)\n",
    "        return self._input_grad\n",
    "\n",
    "\n",
    "    def _compute_output(self, input):\n",
    "        \"\"\"\n",
    "        Computes the output using the current parameter set of the class and input.\n",
    "        This function returns the result which will be stored in the `_output` field.\n",
    "\n",
    "        Example: in case of identity operation:\n",
    "\n",
    "        output = input\n",
    "        return output\n",
    "        \"\"\"\n",
    "        raise NotImplementedError\n",
    "\n",
    "\n",
    "    def _compute_input_grad(self, input, output_grad):\n",
    "        \"\"\"\n",
    "        Returns the gradient of the module with respect to its own input.\n",
    "        The shape of the returned value is always the same as the shape of `input`.\n",
    "\n",
    "        Example: in case of identity operation:\n",
    "        input_grad = output_grad\n",
    "        return input_grad\n",
    "        \"\"\"\n",
    "\n",
    "        raise NotImplementedError\n",
    "\n",
    "    def _update_parameters_grad(self, input, output_grad):\n",
    "        \"\"\"\n",
    "        Computing the gradient of the module with respect to its own parameters.\n",
    "        No need to override if module has no parameters (e.g. ReLU).\n",
    "        \"\"\"\n",
    "        pass\n",
    "\n",
    "    def zero_grad(self):\n",
    "        \"\"\"\n",
    "        Zeroes `gradParams` variable if the module has params.\n",
    "        \"\"\"\n",
    "        pass\n",
    "\n",
    "    def get_parameters(self):\n",
    "        \"\"\"\n",
    "        Returns a list with its parameters.\n",
    "        If the module does not have parameters return empty list.\n",
    "        \"\"\"\n",
    "        return []\n",
    "\n",
    "    def get_parameters_grad(self):\n",
    "        \"\"\"\n",
    "        Returns a list with gradients with respect to its parameters.\n",
    "        If the module does not have parameters return empty list.\n",
    "        \"\"\"\n",
    "        return []\n",
    "\n",
    "    def train(self):\n",
    "        \"\"\"\n",
    "        Sets training mode for the module.\n",
    "        Training and testing behaviour differs for Dropout, BatchNorm.\n",
    "        \"\"\"\n",
    "        self.training = True\n",
    "\n",
    "    def evaluate(self):\n",
    "        \"\"\"\n",
    "        Sets evaluation mode for the module.\n",
    "        Training and testing behaviour differs for Dropout, BatchNorm.\n",
    "        \"\"\"\n",
    "        self.training = False\n",
    "\n",
    "    def __repr__(self):\n",
    "        \"\"\"\n",
    "        Pretty printing. Should be overrided in every module if you want\n",
    "        to have readable description.\n",
    "        \"\"\"\n",
    "        return \"Module\""
   ]
  },
  {
   "cell_type": "markdown",
   "metadata": {
    "id": "isbDKqDW5Col"
   },
   "source": [
    "# Layers"
   ]
  },
  {
   "cell_type": "markdown",
   "metadata": {
    "id": "ybvPD8p05Coq"
   },
   "source": [
    "## 1. Batch normalization\n",
    "One of the most significant recent ideas that impacted NNs a lot is [**Batch normalization**](http://arxiv.org/abs/1502.03167). The idea is simple, yet effective: the features should be whitened ($mean = 0$, $std = 1$) all the way through NN. This improves the convergence for deep models letting it train them for days but not weeks. **You are** to implement the first part of the layer: features normalization. The second part (`ChannelwiseScaling` layer) is implemented below.\n",
    "\n",
    "- input:   **`batch_size x n_feats`**\n",
    "- output: **`batch_size x n_feats`**\n",
    "\n",
    "The layer should work as follows. While training (`self.training == True`) it transforms input as $$y = \\frac{x - \\mu}  {\\sqrt{\\sigma + \\epsilon}}$$\n",
    "where $\\mu$ and $\\sigma$ — mean and variance of feature values in **batch** and $\\epsilon$ is just a small number for numericall stability. Also during training, layer should maintain exponential moving average values for mean and variance:\n",
    "```\n",
    "    self.moving_mean = self.moving_mean * alpha + batch_mean * (1 - alpha)\n",
    "    self.moving_variance = self.moving_variance * alpha + batch_variance * (1 - alpha)\n",
    "```\n",
    "During testing (`self.training == False`) the layer normalizes input using moving_mean and moving_variance.\n",
    "\n",
    "Note that decomposition of batch normalization on normalization itself and channelwise scaling here is just a common **implementation** choice. In general \"batch normalization\" always assumes normalization + scaling."
   ]
  },
  {
   "cell_type": "code",
   "execution_count": 3,
   "metadata": {
    "id": "XQRFBjo55Cos"
   },
   "outputs": [],
   "source": [
    "class BatchNormalization(Module):\n",
    "    EPS = 1e-3\n",
    "\n",
    "    def __init__(self, alpha=0.):\n",
    "        super(BatchNormalization, self).__init__()\n",
    "        self.alpha = alpha\n",
    "        self.moving_mean = 0.\n",
    "        self.moving_variance = 1.\n",
    "\n",
    "    def _compute_output(self, input):\n",
    "        batch_mean = np.mean(input, axis=0)\n",
    "        batch_variance = np.var(input, axis=0)\n",
    "        if self.training:\n",
    "          self.moving_mean = self.moving_mean * self.alpha + batch_mean * (1 - self.alpha)\n",
    "          self.moving_variance = self.moving_variance * self.alpha + np.var(input, axis=0, ddof=1) * (1 - self.alpha)\n",
    "          output = (input - batch_mean) / (batch_variance + self.EPS) ** 0.5\n",
    "        else:\n",
    "          output = (input - self.moving_mean) / (self.moving_variance + self.EPS) ** 0.5\n",
    "\n",
    "        return output\n",
    "\n",
    "    def _compute_input_grad(self, input, output_grad):\n",
    "        N, num_features = input.shape\n",
    "        \n",
    "        # Step 1: Calculate mean and variance\n",
    "        mu = np.mean(input, axis=0)\n",
    "        var = np.var(input, axis=0)\n",
    "        sigma = np.sqrt(var + self.EPS)\n",
    "        \n",
    "        # Step 2: grad_output w.r.t. normalized input (no scaling, so grad_hat_x = grad_output)\n",
    "        grad_hat_x = output_grad  # No gamma scaling\n",
    "        \n",
    "        # Step 3: Calculate gradients of mean and variance\n",
    "        grad_var = np.sum(grad_hat_x * (input - mu) * -0.5 * (var + self.EPS)**-1.5, axis=0)\n",
    "        grad_mean = np.sum(grad_hat_x * -1 / sigma, axis=0) + grad_var * np.sum(-2 * (input - mu) / N, axis=0)\n",
    "        \n",
    "        # Step 4: Gradient w.r.t input\n",
    "        grad_input = grad_hat_x / sigma + grad_var * 2 * (input - mu) / N + grad_mean / N\n",
    "        \n",
    "        return grad_input\n",
    "\n",
    "    def __repr__(self):\n",
    "        return \"BatchNormalization\""
   ]
  },
  {
   "cell_type": "code",
   "execution_count": 4,
   "metadata": {
    "id": "iU8LwKVy5Cot"
   },
   "outputs": [
    {
     "name": "stderr",
     "output_type": "stream",
     "text": [
      "<>:2: SyntaxWarning: invalid escape sequence '\\g'\n",
      "<>:2: SyntaxWarning: invalid escape sequence '\\g'\n",
      "C:\\Users\\danii\\AppData\\Local\\Temp\\ipykernel_8492\\820473258.py:2: SyntaxWarning: invalid escape sequence '\\g'\n",
      "  \"\"\"\n"
     ]
    }
   ],
   "source": [
    "class ChannelwiseScaling(Module):\n",
    "    \"\"\"\n",
    "       Implements linear transform of input y = \\gamma * x + \\beta\n",
    "       where \\gamma, \\beta - learnable vectors of length x.shape[-1]\n",
    "    \"\"\"\n",
    "    def __init__(self, n_out):\n",
    "        super(ChannelwiseScaling, self).__init__()\n",
    "\n",
    "        stdv = 1./np.sqrt(n_out)\n",
    "        self.gamma = np.random.uniform(-stdv, stdv, size=n_out)\n",
    "        self.beta = np.random.uniform(-stdv, stdv, size=n_out)\n",
    "\n",
    "        self.gradGamma = np.zeros_like(self.gamma)\n",
    "        self.gradBeta = np.zeros_like(self.beta)\n",
    "\n",
    "    def _compute_output(self, input):\n",
    "        output = input * self.gamma + self.beta\n",
    "        return output\n",
    "\n",
    "    def _compute_input_grad(self, input, output_grad):\n",
    "        grad_input = output_grad * self.gamma\n",
    "        return grad_input\n",
    "\n",
    "    def _update_parameters_grad(self, input, output_grad):\n",
    "        self.gradBeta = np.sum(output_grad, axis=0)\n",
    "        self.gradGamma = np.sum(output_grad*input, axis=0)\n",
    "\n",
    "    def zero_grad(self):\n",
    "        self.gradGamma.fill(0)\n",
    "        self.gradBeta.fill(0)\n",
    "\n",
    "    def get_parameters(self):\n",
    "        return [self.gamma, self.beta]\n",
    "\n",
    "    def get_parameters_grad(self):\n",
    "        return [self.gradGamma, self.gradBeta]\n",
    "\n",
    "    def __repr__(self):\n",
    "        return \"ChannelwiseScaling\""
   ]
  },
  {
   "cell_type": "markdown",
   "metadata": {
    "id": "lDIWs4955Cou"
   },
   "source": [
    "Practical notes. If BatchNormalization is placed after a linear transformation layer (including dense layer, convolutions, channelwise scaling) that implements function like `y = weight * x + bias`, than bias adding become useless and could be omitted since its effect will be discarded while batch mean subtraction. If BatchNormalization (followed by `ChannelwiseScaling`) is placed before a layer that propagates scale (including ReLU, LeakyReLU) followed by any linear transformation layer than parameter `gamma` in `ChannelwiseScaling` could be freezed since it could be absorbed into the linear transformation layer."
   ]
  },
  {
   "cell_type": "markdown",
   "metadata": {
    "id": "F9Wcfkiu5Cov"
   },
   "source": [
    "## 2. Dropout\n",
    "Implement [**dropout**](https://www.cs.toronto.edu/~hinton/absps/JMLRdropout.pdf). The idea and implementation is really simple: just multimply the input by $Bernoulli(p)$ mask. Here $p$ is probability of an element to be zeroed.\n",
    "\n",
    "This has proven to be an effective technique for regularization and preventing the co-adaptation of neurons.\n",
    "\n",
    "While training (`self.training == True`) it should sample a mask on each iteration (for every batch), zero out elements and multiply elements by $1 / (1 - p)$. The latter is needed for keeping mean values of features close to mean values which will be in test mode. When testing this module should implement identity transform i.e. `output = input`.\n",
    "\n",
    "- input:   **`batch_size x n_feats`**\n",
    "- output: **`batch_size x n_feats`**"
   ]
  },
  {
   "cell_type": "code",
   "execution_count": 5,
   "metadata": {
    "id": "AxnN67MZ5Cow"
   },
   "outputs": [],
   "source": [
    "import scipy.stats as ss\n",
    "\n",
    "class Dropout(Module):\n",
    "    def __init__(self, p=0.5):\n",
    "        super(Dropout, self).__init__()\n",
    "\n",
    "        self.p = p\n",
    "        self.mask = []\n",
    "\n",
    "    def _compute_output(self, input):\n",
    "        if self.training:\n",
    "            self.mask = ss.bernoulli.rvs(1 - self.p, size=input.shape)\n",
    "            output = input * self.mask / (1 - self.p)\n",
    "        else:\n",
    "            output = input\n",
    "        return output\n",
    "\n",
    "    def _compute_input_grad(self, input, output_grad):\n",
    "        grad_input = output_grad / (1 - self.p) * self.mask\n",
    "        return grad_input\n",
    "        \n",
    "    def __repr__(self):\n",
    "        return \"Dropout\""
   ]
  },
  {
   "cell_type": "markdown",
   "metadata": {
    "id": "qgSm-Reqq--o"
   },
   "source": [
    "## 3. Conv2d\n",
    "\n",
    "* input: `batch_size x in_channels x h x w`\n",
    "* output: `batch_size x out_channels x h x w`\n",
    "\n",
    "You should implement something like pytorch Conv2d layer with `stride=1` and zero-padding outside of image using `scipy.signal.correlate` function.\n",
    "\n",
    "**Practical notes:**\n",
    "\n",
    "* While the layer name is \"convolution\", the most of neural network frameworks (including tensorflow and pytorch) implement operation that is called [correlation](https://en.wikipedia.org/wiki/Cross-correlation#Cross-correlation_of_deterministic_signals) in signal processing theory. **So don't use** `scipy.signal.convolve` since it implements convolution in terms of signal processing.\n",
    "* It may be convenient to use numpy.pad for zero-padding.\n",
    "* It's rather ok to implement convolution over 4d array using 2 nested loops: one over batch size dimension and another one over output filters dimension"
   ]
  },
  {
   "cell_type": "code",
   "execution_count": 28,
   "metadata": {
    "id": "KHQZ5kGtq--o"
   },
   "outputs": [],
   "source": [
    "import scipy as sp\n",
    "import scipy.signal\n",
    "import skimage\n",
    "\n",
    "class Conv2d(Module):\n",
    "    def __init__(self, in_channels, out_channels, kernel_size):\n",
    "        super(Conv2d, self).__init__()\n",
    "        assert kernel_size % 2 == 1, kernel_size\n",
    "\n",
    "        stdv = 1./np.sqrt(in_channels)\n",
    "        self.W = np.random.uniform(-stdv, stdv, size=(out_channels, in_channels, kernel_size, kernel_size))\n",
    "        self.b = np.random.uniform(-stdv, stdv, size=(out_channels,))\n",
    "        self.in_channels = in_channels\n",
    "        self.out_channels = out_channels\n",
    "        self.kernel_size = kernel_size\n",
    "        self.gradW = np.zeros_like(self.W)\n",
    "        self.gradb = np.zeros_like(self.b)\n",
    "\n",
    "    def _compute_output(self, input):\n",
    "        pad_size = self.kernel_size // 2\n",
    "        pad_input = np.pad(input, pad_width=((0, 0), (0, 0), (pad_size, pad_size), (pad_size, pad_size)))\n",
    "        out = np.zeros((input.shape[0], self.out_channels, input.shape[2], input.shape[3]))\n",
    "        for i in range(out.shape[0]):\n",
    "            for j in range(out.shape[1]):\n",
    "                out[i, j] = sp.signal.correlate(pad_input[i], self.W[j], mode='valid') + self.b[j]\n",
    "\n",
    "        self._output = out\n",
    "\n",
    "        return self._output\n",
    "\n",
    "    def _compute_input_grad(self, input, gradOutput):\n",
    "        pad_size = self.kernel_size // 2\n",
    "        pad_gradOutput = np.pad(gradOutput, pad_width=((0, 0), (0, 0), (pad_size, pad_size), (pad_size, pad_size)))\n",
    "        input_grad = np.zeros_like(input)\n",
    "        flip_W = self.W[..., ::-1, ::-1]\n",
    "        for i in range(input_grad.shape[0]):\n",
    "            for j in range(input_grad.shape[1]):\n",
    "                input_grad[i, j] = sp.signal.correlate(pad_gradOutput[i], flip_W[:, j], mode='valid')\n",
    "\n",
    "        self._input_grad = input_grad\n",
    "\n",
    "        return self._input_grad\n",
    "\n",
    "    def accGradParameters(self, input, gradOutput):\n",
    "        pad_size = self.kernel_size // 2\n",
    "        # YOUR CODE #############\n",
    "        # 1. zero-pad the input\n",
    "        # 2. compute 'self.gradW' using scipy.signal.correlate(... , mode='valid')\n",
    "        # 3. compute 'self.gradb' - formulas like in Linear of ChannelwiseScaling layers\n",
    "        pad_input = np.pad(input, pad_width=((0, 0), (0, 0), (pad_size, pad_size), (pad_size, pad_size)))\n",
    "        gradW = np.zeros((self.out_channels, self.in_channels, self.kernel_size, self.kernel_size))\n",
    "        \n",
    "        for i in range(gradW.shape[0]):\n",
    "            for j in range(gradW.shape[1]):\n",
    "                gradW[i, j] =  sp.signal.correlate(pad_input[:, j], gradOutput[:, i], mode='valid')\n",
    "                \n",
    "        self.gradW = gradW\n",
    "        self.gradb = gradOutput.sum((0, 2, 3))\n",
    "\n",
    "    def zeroGradParameters(self):\n",
    "        self.gradW.fill(0)\n",
    "        self.gradb.fill(0)\n",
    "\n",
    "    def getParameters(self):\n",
    "        return [self.W, self.b]\n",
    "\n",
    "    def getGradParameters(self):\n",
    "        return [self.gradW, self.gradb]\n",
    "\n",
    "    def __repr__(self):\n",
    "        s = self.W.shape\n",
    "        q = 'Conv2d %d -> %d' %(s[1],s[0])\n",
    "        return q"
   ]
  },
  {
   "cell_type": "code",
   "execution_count": null,
   "metadata": {},
   "outputs": [],
   "source": []
  }
 ],
 "metadata": {
  "colab": {
   "provenance": []
  },
  "kernelspec": {
   "display_name": "Python 3 (ipykernel)",
   "language": "python",
   "name": "python3"
  },
  "language_info": {
   "codemirror_mode": {
    "name": "ipython",
    "version": 3
   },
   "file_extension": ".py",
   "mimetype": "text/x-python",
   "name": "python",
   "nbconvert_exporter": "python",
   "pygments_lexer": "ipython3",
   "version": "3.12.3"
  },
  "vscode": {
   "interpreter": {
    "hash": "f98f21f0b58c314391d9edda6a890b43799e7bbdcfa23cfcf4ab03be958beb23"
   }
  }
 },
 "nbformat": 4,
 "nbformat_minor": 4
}
